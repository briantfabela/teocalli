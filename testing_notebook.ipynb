{
 "cells": [
  {
   "cell_type": "code",
   "execution_count": 1,
   "metadata": {},
   "outputs": [],
   "source": [
    "# Jupyter notebook for code testing on the fly without having to launch console on Visual Studio Code\n",
    "import os"
   ]
  },
  {
   "cell_type": "code",
   "execution_count": 3,
   "metadata": {},
   "outputs": [],
   "source": [
    "os.chdir(r'C:\\Users\\100821\\Desktop\\PDF_Reader')"
   ]
  },
  {
   "cell_type": "code",
   "execution_count": 4,
   "metadata": {},
   "outputs": [
    {
     "data": {
      "text/plain": [
       "'C:\\\\Users\\\\100821\\\\Desktop\\\\PDF_Reader'"
      ]
     },
     "execution_count": 4,
     "metadata": {},
     "output_type": "execute_result"
    }
   ],
   "source": [
    "os.getcwd()"
   ]
  },
  {
   "cell_type": "code",
   "execution_count": 6,
   "metadata": {},
   "outputs": [
    {
     "data": {
      "text/plain": [
       "['747-03-003_AddressVerification2019.pdf',\n",
       " '755-33-012_AddressAssignment2019.pdf',\n",
       " 'ADDRESS ASSIGNMENT FOR 69954061 -signed.pdf',\n",
       " 'get_AS_data.py']"
      ]
     },
     "execution_count": 6,
     "metadata": {},
     "output_type": "execute_result"
    }
   ],
   "source": [
    "os.listdir()"
   ]
  },
  {
   "cell_type": "code",
   "execution_count": 8,
   "metadata": {},
   "outputs": [],
   "source": [
    "import PyPDF2"
   ]
  },
  {
   "cell_type": "code",
   "execution_count": 9,
   "metadata": {},
   "outputs": [
    {
     "data": {
      "text/plain": [
       "\"Yuma County, Arizona\\n DEPARTMENT OF DEVELOPMENT SERVICES\\n 2351 W 26\\nth Street, Yuma, Arizona  85364\\n Phone (928) 817-5000 \\nFax: (928) 817-5020 \\nAPPLICATION FOR PROPERTY ADDRESS\\n Assignment\\n X Change\\n Verification\\n None \\n07 17 2019   Current Street Address of Property\\n Month\\n  \\nDay\\n Year\\n Book \\n755 Map\\n 33 Parcel \\n012 Savera Holdings, LLC\\n  Assessor's Parcel Number\\n          Owner(s) Name (Please Print)\\n Legal \\nDescription\\n /Comments\\n: Subdivision: SAVERA LAND DIVISION (LDP 18\\n-18) PARCEL A  Section: 9 Township: \\n10S Range: 23W    DEVELOPMENT RESTRICTIONS EXIST ON THIS PROPERTY. \\n       \\n2591 South Avenue 2 \\n½E, STE 1\\n Yuma\\n Az 85365   Owner's Maili\\nng Address\\n City\\n State\\n Zip \\nCode\\n (County Staff will fill in information below this line)\\n NOTICE\\n Please be advised that the above described property's address has hereby been \\nASSIGNED AS:\\n 17151 South Avenue A \\n85350 1382 New Street Address of Property\\n Zip Code\\n      Emergency Service Zone     \\nJuan Leal Rubio\\n 07//2019 Approving Agent:\\n    Signature:\\n            Date:\\n List of Agencies notified of this\\n ASSIGNMENT:\\n (As checked\\n)  Postmaster\\n  Yuma County Sheriff \\n City Of Yuma Planning \\n Yuma Count\\ny911  \\n Southwest Gas Corp. \\n Time Warner    \\n  \\n Century Link          \\n Yuma County Assessor\\n  \\n Arizona Public Service  \\n Rural Metro\\n   \\n Yuma County Recorder          \\nYuma County GIS Mg\\nr. \\n Y\\numa Schools Transportation Center \\nWater Users' Association (Specify):\\n YCWU\\n  YMID\\n  YID\\n  GVID\\n  UBID\\n  WMID\\n  Far West Water Co\\n For policies on assigning street addresses, refer to the Yuma County Publication \\n- \\nStreet \\nNaming and Property Addressing Policies.\\n Revised_\\n05\\n/07/201\\n8 \\n\""
      ]
     },
     "execution_count": 9,
     "metadata": {},
     "output_type": "execute_result"
    }
   ],
   "source": [
    "pdf_file = open('755-33-012_AddressAssignment2019.pdf', 'rb')\n",
    "PyPDF2.PdfFileReader(pdf_file).getPage(0).extractText()"
   ]
  },
  {
   "cell_type": "code",
   "execution_count": 20,
   "metadata": {},
   "outputs": [
    {
     "data": {
      "text/plain": [
       "'Hello There World! ...'"
      ]
     },
     "execution_count": 20,
     "metadata": {},
     "output_type": "execute_result"
    }
   ],
   "source": [
    "x = 'Hello\\nThere\\nWorld!\\n...'\n",
    "x.replace('\\n', ' ')"
   ]
  },
  {
   "cell_type": "code",
   "execution_count": null,
   "metadata": {},
   "outputs": [],
   "source": []
  }
 ],
 "metadata": {
  "kernelspec": {
   "display_name": "Python 3",
   "language": "python",
   "name": "python3"
  },
  "language_info": {
   "codemirror_mode": {
    "name": "ipython",
    "version": 3
   },
   "file_extension": ".py",
   "mimetype": "text/x-python",
   "name": "python",
   "nbconvert_exporter": "python",
   "pygments_lexer": "ipython3",
   "version": "3.7.3"
  }
 },
 "nbformat": 4,
 "nbformat_minor": 2
}
